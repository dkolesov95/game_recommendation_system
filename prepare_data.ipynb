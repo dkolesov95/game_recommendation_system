{
 "cells": [
  {
   "cell_type": "code",
   "execution_count": 2,
   "metadata": {
    "executionInfo": {
     "elapsed": 5,
     "status": "ok",
     "timestamp": 1668520090732,
     "user": {
      "displayName": "Dmitriy Kolesov",
      "userId": "14381214906025020908"
     },
     "user_tz": -120
    },
    "id": "Lrv4W_HXitv5"
   },
   "outputs": [],
   "source": [
    "import warnings\n",
    "warnings.filterwarnings('ignore')\n",
    "\n",
    "import pandas as pd"
   ]
  },
  {
   "cell_type": "code",
   "execution_count": 3,
   "metadata": {
    "colab": {
     "base_uri": "https://localhost:8080/"
    },
    "executionInfo": {
     "elapsed": 401,
     "status": "ok",
     "timestamp": 1668521191522,
     "user": {
      "displayName": "Dmitriy Kolesov",
      "userId": "14381214906025020908"
     },
     "user_tz": -120
    },
    "id": "r5BMPrF6i-W0",
    "outputId": "b6279d73-df12-49c4-ed65-35a49814f9fc"
   },
   "outputs": [
    {
     "name": "stdout",
     "output_type": "stream",
     "text": [
      "Archive:  game_cards.zip\n",
      "  inflating: game_cards.csv          \n",
      "cosine_similarity.pkl  metacritic_parser   requirements.txt\t  venv\n",
      "game_cards.csv\t       prepare_data.ipynb  telegram_bot.py\n",
      "game_cards.zip\t       README.md\t   unique_game_cards.csv\n"
     ]
    }
   ],
   "source": [
    "!unzip game_cards.zip\n",
    "!ls"
   ]
  },
  {
   "cell_type": "code",
   "execution_count": 4,
   "metadata": {
    "executionInfo": {
     "elapsed": 1646,
     "status": "ok",
     "timestamp": 1668521221433,
     "user": {
      "displayName": "Dmitriy Kolesov",
      "userId": "14381214906025020908"
     },
     "user_tz": -120
    },
    "id": "OuZ_3qEwnOC8"
   },
   "outputs": [],
   "source": [
    "df = pd.read_csv('./game_cards.csv')"
   ]
  },
  {
   "cell_type": "code",
   "execution_count": 5,
   "metadata": {
    "colab": {
     "base_uri": "https://localhost:8080/",
     "height": 337
    },
    "executionInfo": {
     "elapsed": 299,
     "status": "ok",
     "timestamp": 1668521224439,
     "user": {
      "displayName": "Dmitriy Kolesov",
      "userId": "14381214906025020908"
     },
     "user_tz": -120
    },
    "id": "NTTLyoC2nVPm",
    "outputId": "185d3f99-3df0-45ae-c013-52ebfeb7442a"
   },
   "outputs": [
    {
     "data": {
      "text/html": [
       "<div>\n",
       "<style scoped>\n",
       "    .dataframe tbody tr th:only-of-type {\n",
       "        vertical-align: middle;\n",
       "    }\n",
       "\n",
       "    .dataframe tbody tr th {\n",
       "        vertical-align: top;\n",
       "    }\n",
       "\n",
       "    .dataframe thead th {\n",
       "        text-align: right;\n",
       "    }\n",
       "</style>\n",
       "<table border=\"1\" class=\"dataframe\">\n",
       "  <thead>\n",
       "    <tr style=\"text-align: right;\">\n",
       "      <th></th>\n",
       "      <th>name</th>\n",
       "      <th>platform</th>\n",
       "      <th>date</th>\n",
       "      <th>summary</th>\n",
       "      <th>metascore</th>\n",
       "      <th>userscore</th>\n",
       "      <th>href</th>\n",
       "    </tr>\n",
       "  </thead>\n",
       "  <tbody>\n",
       "    <tr>\n",
       "      <th>0</th>\n",
       "      <td>Sid Meier s Civilization II</td>\n",
       "      <td>PC</td>\n",
       "      <td>February 29, 1996</td>\n",
       "      <td>An empire-building turn-based strategy game. T...</td>\n",
       "      <td>94</td>\n",
       "      <td>8.8</td>\n",
       "      <td>/game/pc/sid-meiers-civilization-ii</td>\n",
       "    </tr>\n",
       "    <tr>\n",
       "      <th>1</th>\n",
       "      <td>Quake</td>\n",
       "      <td>PC</td>\n",
       "      <td>June 22, 1996</td>\n",
       "      <td>Rage through 32 single player levels and 6 dea...</td>\n",
       "      <td>94</td>\n",
       "      <td>8.7</td>\n",
       "      <td>/game/pc/quake</td>\n",
       "    </tr>\n",
       "    <tr>\n",
       "      <th>2</th>\n",
       "      <td>Diablo</td>\n",
       "      <td>PC</td>\n",
       "      <td>December 31, 1996</td>\n",
       "      <td>The kingdom of Khandaras has fallen into chaos...</td>\n",
       "      <td>94</td>\n",
       "      <td>8.6</td>\n",
       "      <td>/game/pc/diablo</td>\n",
       "    </tr>\n",
       "    <tr>\n",
       "      <th>3</th>\n",
       "      <td>Super Mario 64</td>\n",
       "      <td>Nintendo 64</td>\n",
       "      <td>September 26, 1996</td>\n",
       "      <td>Mario is super in a whole new way! Combining t...</td>\n",
       "      <td>94</td>\n",
       "      <td>9.1</td>\n",
       "      <td>/game/nintendo-64/super-mario-64</td>\n",
       "    </tr>\n",
       "    <tr>\n",
       "      <th>4</th>\n",
       "      <td>Wipeout XL</td>\n",
       "      <td>PlayStation</td>\n",
       "      <td>September 30, 1996</td>\n",
       "      <td>The original scorched the game world and becam...</td>\n",
       "      <td>93</td>\n",
       "      <td>8.6</td>\n",
       "      <td>/game/playstation/wipeout-xl</td>\n",
       "    </tr>\n",
       "  </tbody>\n",
       "</table>\n",
       "</div>"
      ],
      "text/plain": [
       "                          name     platform                date  \\\n",
       "0  Sid Meier s Civilization II           PC   February 29, 1996   \n",
       "1                        Quake           PC       June 22, 1996   \n",
       "2                       Diablo           PC   December 31, 1996   \n",
       "3               Super Mario 64  Nintendo 64  September 26, 1996   \n",
       "4                   Wipeout XL  PlayStation  September 30, 1996   \n",
       "\n",
       "                                             summary  metascore userscore  \\\n",
       "0  An empire-building turn-based strategy game. T...         94       8.8   \n",
       "1  Rage through 32 single player levels and 6 dea...         94       8.7   \n",
       "2  The kingdom of Khandaras has fallen into chaos...         94       8.6   \n",
       "3  Mario is super in a whole new way! Combining t...         94       9.1   \n",
       "4  The original scorched the game world and becam...         93       8.6   \n",
       "\n",
       "                                  href  \n",
       "0  /game/pc/sid-meiers-civilization-ii  \n",
       "1                       /game/pc/quake  \n",
       "2                      /game/pc/diablo  \n",
       "3     /game/nintendo-64/super-mario-64  \n",
       "4         /game/playstation/wipeout-xl  "
      ]
     },
     "execution_count": 5,
     "metadata": {},
     "output_type": "execute_result"
    }
   ],
   "source": [
    "df.head()"
   ]
  },
  {
   "cell_type": "code",
   "execution_count": 6,
   "metadata": {
    "colab": {
     "base_uri": "https://localhost:8080/"
    },
    "executionInfo": {
     "elapsed": 14,
     "status": "ok",
     "timestamp": 1668521297901,
     "user": {
      "displayName": "Dmitriy Kolesov",
      "userId": "14381214906025020908"
     },
     "user_tz": -120
    },
    "id": "D92MiYfUnnn1",
    "outputId": "58339a93-9fcc-46f7-e177-01f022751d88"
   },
   "outputs": [
    {
     "data": {
      "text/plain": [
       "(19837, 7)"
      ]
     },
     "execution_count": 6,
     "metadata": {},
     "output_type": "execute_result"
    }
   ],
   "source": [
    "df.shape"
   ]
  },
  {
   "cell_type": "code",
   "execution_count": 7,
   "metadata": {
    "colab": {
     "base_uri": "https://localhost:8080/"
    },
    "executionInfo": {
     "elapsed": 5,
     "status": "ok",
     "timestamp": 1668521312656,
     "user": {
      "displayName": "Dmitriy Kolesov",
      "userId": "14381214906025020908"
     },
     "user_tz": -120
    },
    "id": "WT9t_XgwnWXE",
    "outputId": "3086c05e-b36f-4fbf-8f0d-a0e063af4cca"
   },
   "outputs": [
    {
     "data": {
      "text/plain": [
       "(12829, 7)"
      ]
     },
     "execution_count": 7,
     "metadata": {},
     "output_type": "execute_result"
    }
   ],
   "source": [
    "unique_game_cards = df.drop_duplicates('name')\n",
    "unique_game_cards.shape"
   ]
  },
  {
   "cell_type": "code",
   "execution_count": 8,
   "metadata": {
    "executionInfo": {
     "elapsed": 14,
     "status": "ok",
     "timestamp": 1668521339589,
     "user": {
      "displayName": "Dmitriy Kolesov",
      "userId": "14381214906025020908"
     },
     "user_tz": -120
    },
    "id": "PMrjXCKAnpnL"
   },
   "outputs": [],
   "source": [
    "!rm game_cards.csv"
   ]
  },
  {
   "cell_type": "code",
   "execution_count": 9,
   "metadata": {},
   "outputs": [
    {
     "name": "stdout",
     "output_type": "stream",
     "text": [
      "<class 'pandas.core.frame.DataFrame'>\n",
      "Int64Index: 12829 entries, 0 to 19836\n",
      "Data columns (total 7 columns):\n",
      " #   Column     Non-Null Count  Dtype \n",
      "---  ------     --------------  ----- \n",
      " 0   name       12829 non-null  object\n",
      " 1   platform   12829 non-null  object\n",
      " 2   date       12829 non-null  object\n",
      " 3   summary    12748 non-null  object\n",
      " 4   metascore  12829 non-null  int64 \n",
      " 5   userscore  12829 non-null  object\n",
      " 6   href       12829 non-null  object\n",
      "dtypes: int64(1), object(6)\n",
      "memory usage: 801.8+ KB\n"
     ]
    }
   ],
   "source": [
    "unique_game_cards.info()"
   ]
  },
  {
   "cell_type": "code",
   "execution_count": 10,
   "metadata": {},
   "outputs": [],
   "source": [
    "userscore_mean = unique_game_cards[unique_game_cards['userscore'] != 'tbd']['userscore'].astype('float').mean()\n",
    "unique_game_cards['userscore'] = unique_game_cards['userscore'].replace('tbd', userscore_mean).astype('float')"
   ]
  },
  {
   "cell_type": "code",
   "execution_count": 11,
   "metadata": {},
   "outputs": [
    {
     "name": "stdout",
     "output_type": "stream",
     "text": [
      "<class 'pandas.core.frame.DataFrame'>\n",
      "Int64Index: 12829 entries, 0 to 19836\n",
      "Data columns (total 7 columns):\n",
      " #   Column     Non-Null Count  Dtype  \n",
      "---  ------     --------------  -----  \n",
      " 0   name       12829 non-null  object \n",
      " 1   platform   12829 non-null  object \n",
      " 2   date       12829 non-null  object \n",
      " 3   summary    12748 non-null  object \n",
      " 4   metascore  12829 non-null  int64  \n",
      " 5   userscore  12829 non-null  float64\n",
      " 6   href       12829 non-null  object \n",
      "dtypes: float64(1), int64(1), object(5)\n",
      "memory usage: 801.8+ KB\n"
     ]
    }
   ],
   "source": [
    "unique_game_cards.info()"
   ]
  },
  {
   "cell_type": "code",
   "execution_count": 13,
   "metadata": {
    "executionInfo": {
     "elapsed": 1341,
     "status": "ok",
     "timestamp": 1668521407704,
     "user": {
      "displayName": "Dmitriy Kolesov",
      "userId": "14381214906025020908"
     },
     "user_tz": -120
    },
    "id": "8L_V201znyU2"
   },
   "outputs": [],
   "source": [
    "unique_game_cards.to_csv('unique_game_cards.csv', index=False)"
   ]
  },
  {
   "cell_type": "code",
   "execution_count": null,
   "metadata": {
    "id": "qJIlz7LDoC2T"
   },
   "outputs": [],
   "source": []
  },
  {
   "cell_type": "code",
   "execution_count": 10,
   "metadata": {
    "executionInfo": {
     "elapsed": 380,
     "status": "ok",
     "timestamp": 1668521445956,
     "user": {
      "displayName": "Dmitriy Kolesov",
      "userId": "14381214906025020908"
     },
     "user_tz": -120
    },
    "id": "9tJ8vrlboHc3"
   },
   "outputs": [],
   "source": [
    "from sklearn.feature_extraction.text import TfidfVectorizer\n",
    "from sklearn.metrics.pairwise import cosine_similarity"
   ]
  },
  {
   "cell_type": "code",
   "execution_count": 13,
   "metadata": {
    "colab": {
     "base_uri": "https://localhost:8080/"
    },
    "executionInfo": {
     "elapsed": 1820,
     "status": "ok",
     "timestamp": 1668521517369,
     "user": {
      "displayName": "Dmitriy Kolesov",
      "userId": "14381214906025020908"
     },
     "user_tz": -120
    },
    "id": "oIuUDHCdoMPk",
    "outputId": "478ebfc6-e75a-4269-a5dd-a1f107a6a4ce"
   },
   "outputs": [
    {
     "data": {
      "text/plain": [
       "(12829, 37840)"
      ]
     },
     "execution_count": 13,
     "metadata": {},
     "output_type": "execute_result"
    }
   ],
   "source": [
    "unique_game_cards['summary'] = unique_game_cards['summary'].astype('U')\n",
    "\n",
    "tfidf = TfidfVectorizer(stop_words='english')\n",
    "tfidf_matrix = tfidf.fit_transform(unique_game_cards['summary'])\n",
    "\n",
    "tfidf_matrix.shape"
   ]
  },
  {
   "cell_type": "code",
   "execution_count": 14,
   "metadata": {
    "colab": {
     "base_uri": "https://localhost:8080/"
    },
    "executionInfo": {
     "elapsed": 5692,
     "status": "ok",
     "timestamp": 1668521540311,
     "user": {
      "displayName": "Dmitriy Kolesov",
      "userId": "14381214906025020908"
     },
     "user_tz": -120
    },
    "id": "OZ5IVmrKoPCK",
    "outputId": "d2ceff5c-5df4-402d-91d3-9cab6b81d440"
   },
   "outputs": [
    {
     "data": {
      "text/plain": [
       "(12829, 12829)"
      ]
     },
     "execution_count": 14,
     "metadata": {},
     "output_type": "execute_result"
    }
   ],
   "source": [
    "cos_sim = cosine_similarity(tfidf_matrix, tfidf_matrix)\n",
    "cos_sim.shape"
   ]
  },
  {
   "cell_type": "code",
   "execution_count": 15,
   "metadata": {
    "colab": {
     "base_uri": "https://localhost:8080/",
     "height": 470
    },
    "executionInfo": {
     "elapsed": 4169,
     "status": "ok",
     "timestamp": 1668521598846,
     "user": {
      "displayName": "Dmitriy Kolesov",
      "userId": "14381214906025020908"
     },
     "user_tz": -120
    },
    "id": "tQIzoNMeoiC5",
    "outputId": "c2f57c96-a991-4237-f704-63c4dc15e4ae"
   },
   "outputs": [
    {
     "data": {
      "text/html": [
       "\n",
       "  <div id=\"df-ae5472d0-3d18-4a65-baae-bdd3d4990874\">\n",
       "    <div class=\"colab-df-container\">\n",
       "      <div>\n",
       "<style scoped>\n",
       "    .dataframe tbody tr th:only-of-type {\n",
       "        vertical-align: middle;\n",
       "    }\n",
       "\n",
       "    .dataframe tbody tr th {\n",
       "        vertical-align: top;\n",
       "    }\n",
       "\n",
       "    .dataframe thead th {\n",
       "        text-align: right;\n",
       "    }\n",
       "</style>\n",
       "<table border=\"1\" class=\"dataframe\">\n",
       "  <thead>\n",
       "    <tr style=\"text-align: right;\">\n",
       "      <th>name</th>\n",
       "      <th>Sid Meier s Civilization II</th>\n",
       "      <th>Quake</th>\n",
       "      <th>Diablo</th>\n",
       "      <th>Super Mario 64</th>\n",
       "      <th>Wipeout XL</th>\n",
       "      <th>Wave Race 64</th>\n",
       "      <th>Tomb Raider</th>\n",
       "      <th>Resident Evil</th>\n",
       "      <th>Command &amp; Conquer: Red Alert</th>\n",
       "      <th>Tekken 2</th>\n",
       "      <th>...</th>\n",
       "      <th>Dragon Ball: The Breakers</th>\n",
       "      <th>Blind Fate: Edo no Yami</th>\n",
       "      <th>In Nightmare</th>\n",
       "      <th>Blade Runner: Enhanced Edition</th>\n",
       "      <th>The Waylanders</th>\n",
       "      <th>Zorro: The Chronicles</th>\n",
       "      <th>Babylon s Fall</th>\n",
       "      <th>LEGO Brawls</th>\n",
       "      <th>CrossfireX</th>\n",
       "      <th>POSTAL 4: No Regerts</th>\n",
       "    </tr>\n",
       "    <tr>\n",
       "      <th>name</th>\n",
       "      <th></th>\n",
       "      <th></th>\n",
       "      <th></th>\n",
       "      <th></th>\n",
       "      <th></th>\n",
       "      <th></th>\n",
       "      <th></th>\n",
       "      <th></th>\n",
       "      <th></th>\n",
       "      <th></th>\n",
       "      <th></th>\n",
       "      <th></th>\n",
       "      <th></th>\n",
       "      <th></th>\n",
       "      <th></th>\n",
       "      <th></th>\n",
       "      <th></th>\n",
       "      <th></th>\n",
       "      <th></th>\n",
       "      <th></th>\n",
       "      <th></th>\n",
       "    </tr>\n",
       "  </thead>\n",
       "  <tbody>\n",
       "    <tr>\n",
       "      <th>Sid Meier s Civilization II</th>\n",
       "      <td>1.000000</td>\n",
       "      <td>0.000000</td>\n",
       "      <td>0.000000</td>\n",
       "      <td>0.012226</td>\n",
       "      <td>0.015223</td>\n",
       "      <td>0.000000</td>\n",
       "      <td>0.000000</td>\n",
       "      <td>0.000000</td>\n",
       "      <td>0.002840</td>\n",
       "      <td>0.018240</td>\n",
       "      <td>...</td>\n",
       "      <td>0.003517</td>\n",
       "      <td>0.030888</td>\n",
       "      <td>0.003381</td>\n",
       "      <td>0.012914</td>\n",
       "      <td>0.041194</td>\n",
       "      <td>0.055747</td>\n",
       "      <td>0.011930</td>\n",
       "      <td>0.006644</td>\n",
       "      <td>0.007067</td>\n",
       "      <td>0.007686</td>\n",
       "    </tr>\n",
       "    <tr>\n",
       "      <th>Quake</th>\n",
       "      <td>0.000000</td>\n",
       "      <td>1.000000</td>\n",
       "      <td>0.000000</td>\n",
       "      <td>0.019436</td>\n",
       "      <td>0.000000</td>\n",
       "      <td>0.000000</td>\n",
       "      <td>0.000000</td>\n",
       "      <td>0.000000</td>\n",
       "      <td>0.000000</td>\n",
       "      <td>0.000000</td>\n",
       "      <td>...</td>\n",
       "      <td>0.000000</td>\n",
       "      <td>0.000000</td>\n",
       "      <td>0.000000</td>\n",
       "      <td>0.021389</td>\n",
       "      <td>0.000000</td>\n",
       "      <td>0.018832</td>\n",
       "      <td>0.000000</td>\n",
       "      <td>0.000000</td>\n",
       "      <td>0.000000</td>\n",
       "      <td>0.000000</td>\n",
       "    </tr>\n",
       "    <tr>\n",
       "      <th>Diablo</th>\n",
       "      <td>0.000000</td>\n",
       "      <td>0.000000</td>\n",
       "      <td>1.000000</td>\n",
       "      <td>0.010456</td>\n",
       "      <td>0.002868</td>\n",
       "      <td>0.003003</td>\n",
       "      <td>0.018073</td>\n",
       "      <td>0.005576</td>\n",
       "      <td>0.032633</td>\n",
       "      <td>0.000000</td>\n",
       "      <td>...</td>\n",
       "      <td>0.005751</td>\n",
       "      <td>0.030192</td>\n",
       "      <td>0.026296</td>\n",
       "      <td>0.013454</td>\n",
       "      <td>0.000000</td>\n",
       "      <td>0.030582</td>\n",
       "      <td>0.034874</td>\n",
       "      <td>0.001294</td>\n",
       "      <td>0.001903</td>\n",
       "      <td>0.012720</td>\n",
       "    </tr>\n",
       "    <tr>\n",
       "      <th>Super Mario 64</th>\n",
       "      <td>0.012226</td>\n",
       "      <td>0.019436</td>\n",
       "      <td>0.010456</td>\n",
       "      <td>1.000000</td>\n",
       "      <td>0.034077</td>\n",
       "      <td>0.055182</td>\n",
       "      <td>0.016893</td>\n",
       "      <td>0.000000</td>\n",
       "      <td>0.005262</td>\n",
       "      <td>0.008448</td>\n",
       "      <td>...</td>\n",
       "      <td>0.024315</td>\n",
       "      <td>0.015385</td>\n",
       "      <td>0.015973</td>\n",
       "      <td>0.031407</td>\n",
       "      <td>0.000000</td>\n",
       "      <td>0.002568</td>\n",
       "      <td>0.006149</td>\n",
       "      <td>0.021765</td>\n",
       "      <td>0.000000</td>\n",
       "      <td>0.006013</td>\n",
       "    </tr>\n",
       "    <tr>\n",
       "      <th>Wipeout XL</th>\n",
       "      <td>0.015223</td>\n",
       "      <td>0.000000</td>\n",
       "      <td>0.002868</td>\n",
       "      <td>0.034077</td>\n",
       "      <td>1.000000</td>\n",
       "      <td>0.014500</td>\n",
       "      <td>0.000000</td>\n",
       "      <td>0.000000</td>\n",
       "      <td>0.010276</td>\n",
       "      <td>0.010518</td>\n",
       "      <td>...</td>\n",
       "      <td>0.009373</td>\n",
       "      <td>0.019424</td>\n",
       "      <td>0.004594</td>\n",
       "      <td>0.023171</td>\n",
       "      <td>0.017006</td>\n",
       "      <td>0.003198</td>\n",
       "      <td>0.007656</td>\n",
       "      <td>0.002449</td>\n",
       "      <td>0.013219</td>\n",
       "      <td>0.009803</td>\n",
       "    </tr>\n",
       "  </tbody>\n",
       "</table>\n",
       "<p>5 rows × 12829 columns</p>\n",
       "</div>\n",
       "      <button class=\"colab-df-convert\" onclick=\"convertToInteractive('df-ae5472d0-3d18-4a65-baae-bdd3d4990874')\"\n",
       "              title=\"Convert this dataframe to an interactive table.\"\n",
       "              style=\"display:none;\">\n",
       "        \n",
       "  <svg xmlns=\"http://www.w3.org/2000/svg\" height=\"24px\"viewBox=\"0 0 24 24\"\n",
       "       width=\"24px\">\n",
       "    <path d=\"M0 0h24v24H0V0z\" fill=\"none\"/>\n",
       "    <path d=\"M18.56 5.44l.94 2.06.94-2.06 2.06-.94-2.06-.94-.94-2.06-.94 2.06-2.06.94zm-11 1L8.5 8.5l.94-2.06 2.06-.94-2.06-.94L8.5 2.5l-.94 2.06-2.06.94zm10 10l.94 2.06.94-2.06 2.06-.94-2.06-.94-.94-2.06-.94 2.06-2.06.94z\"/><path d=\"M17.41 7.96l-1.37-1.37c-.4-.4-.92-.59-1.43-.59-.52 0-1.04.2-1.43.59L10.3 9.45l-7.72 7.72c-.78.78-.78 2.05 0 2.83L4 21.41c.39.39.9.59 1.41.59.51 0 1.02-.2 1.41-.59l7.78-7.78 2.81-2.81c.8-.78.8-2.07 0-2.86zM5.41 20L4 18.59l7.72-7.72 1.47 1.35L5.41 20z\"/>\n",
       "  </svg>\n",
       "      </button>\n",
       "      \n",
       "  <style>\n",
       "    .colab-df-container {\n",
       "      display:flex;\n",
       "      flex-wrap:wrap;\n",
       "      gap: 12px;\n",
       "    }\n",
       "\n",
       "    .colab-df-convert {\n",
       "      background-color: #E8F0FE;\n",
       "      border: none;\n",
       "      border-radius: 50%;\n",
       "      cursor: pointer;\n",
       "      display: none;\n",
       "      fill: #1967D2;\n",
       "      height: 32px;\n",
       "      padding: 0 0 0 0;\n",
       "      width: 32px;\n",
       "    }\n",
       "\n",
       "    .colab-df-convert:hover {\n",
       "      background-color: #E2EBFA;\n",
       "      box-shadow: 0px 1px 2px rgba(60, 64, 67, 0.3), 0px 1px 3px 1px rgba(60, 64, 67, 0.15);\n",
       "      fill: #174EA6;\n",
       "    }\n",
       "\n",
       "    [theme=dark] .colab-df-convert {\n",
       "      background-color: #3B4455;\n",
       "      fill: #D2E3FC;\n",
       "    }\n",
       "\n",
       "    [theme=dark] .colab-df-convert:hover {\n",
       "      background-color: #434B5C;\n",
       "      box-shadow: 0px 1px 3px 1px rgba(0, 0, 0, 0.15);\n",
       "      filter: drop-shadow(0px 1px 2px rgba(0, 0, 0, 0.3));\n",
       "      fill: #FFFFFF;\n",
       "    }\n",
       "  </style>\n",
       "\n",
       "      <script>\n",
       "        const buttonEl =\n",
       "          document.querySelector('#df-ae5472d0-3d18-4a65-baae-bdd3d4990874 button.colab-df-convert');\n",
       "        buttonEl.style.display =\n",
       "          google.colab.kernel.accessAllowed ? 'block' : 'none';\n",
       "\n",
       "        async function convertToInteractive(key) {\n",
       "          const element = document.querySelector('#df-ae5472d0-3d18-4a65-baae-bdd3d4990874');\n",
       "          const dataTable =\n",
       "            await google.colab.kernel.invokeFunction('convertToInteractive',\n",
       "                                                     [key], {});\n",
       "          if (!dataTable) return;\n",
       "\n",
       "          const docLinkHtml = 'Like what you see? Visit the ' +\n",
       "            '<a target=\"_blank\" href=https://colab.research.google.com/notebooks/data_table.ipynb>data table notebook</a>'\n",
       "            + ' to learn more about interactive tables.';\n",
       "          element.innerHTML = '';\n",
       "          dataTable['output_type'] = 'display_data';\n",
       "          await google.colab.output.renderOutput(dataTable, element);\n",
       "          const docLink = document.createElement('div');\n",
       "          docLink.innerHTML = docLinkHtml;\n",
       "          element.appendChild(docLink);\n",
       "        }\n",
       "      </script>\n",
       "    </div>\n",
       "  </div>\n",
       "  "
      ],
      "text/plain": [
       "name                         Sid Meier s Civilization II     Quake    Diablo  \\\n",
       "name                                                                           \n",
       "Sid Meier s Civilization II                     1.000000  0.000000  0.000000   \n",
       "Quake                                           0.000000  1.000000  0.000000   \n",
       "Diablo                                          0.000000  0.000000  1.000000   \n",
       "Super Mario 64                                  0.012226  0.019436  0.010456   \n",
       "Wipeout XL                                      0.015223  0.000000  0.002868   \n",
       "\n",
       "name                         Super Mario 64  Wipeout XL  Wave Race 64  \\\n",
       "name                                                                    \n",
       "Sid Meier s Civilization II        0.012226    0.015223      0.000000   \n",
       "Quake                              0.019436    0.000000      0.000000   \n",
       "Diablo                             0.010456    0.002868      0.003003   \n",
       "Super Mario 64                     1.000000    0.034077      0.055182   \n",
       "Wipeout XL                         0.034077    1.000000      0.014500   \n",
       "\n",
       "name                         Tomb Raider  Resident Evil  \\\n",
       "name                                                      \n",
       "Sid Meier s Civilization II     0.000000       0.000000   \n",
       "Quake                           0.000000       0.000000   \n",
       "Diablo                          0.018073       0.005576   \n",
       "Super Mario 64                  0.016893       0.000000   \n",
       "Wipeout XL                      0.000000       0.000000   \n",
       "\n",
       "name                         Command & Conquer: Red Alert  Tekken 2  ...  \\\n",
       "name                                                                 ...   \n",
       "Sid Meier s Civilization II                      0.002840  0.018240  ...   \n",
       "Quake                                            0.000000  0.000000  ...   \n",
       "Diablo                                           0.032633  0.000000  ...   \n",
       "Super Mario 64                                   0.005262  0.008448  ...   \n",
       "Wipeout XL                                       0.010276  0.010518  ...   \n",
       "\n",
       "name                         Dragon Ball: The Breakers  \\\n",
       "name                                                     \n",
       "Sid Meier s Civilization II                   0.003517   \n",
       "Quake                                         0.000000   \n",
       "Diablo                                        0.005751   \n",
       "Super Mario 64                                0.024315   \n",
       "Wipeout XL                                    0.009373   \n",
       "\n",
       "name                         Blind Fate: Edo no Yami  In Nightmare  \\\n",
       "name                                                                 \n",
       "Sid Meier s Civilization II                 0.030888      0.003381   \n",
       "Quake                                       0.000000      0.000000   \n",
       "Diablo                                      0.030192      0.026296   \n",
       "Super Mario 64                              0.015385      0.015973   \n",
       "Wipeout XL                                  0.019424      0.004594   \n",
       "\n",
       "name                         Blade Runner: Enhanced Edition  The Waylanders  \\\n",
       "name                                                                          \n",
       "Sid Meier s Civilization II                        0.012914        0.041194   \n",
       "Quake                                              0.021389        0.000000   \n",
       "Diablo                                             0.013454        0.000000   \n",
       "Super Mario 64                                     0.031407        0.000000   \n",
       "Wipeout XL                                         0.023171        0.017006   \n",
       "\n",
       "name                         Zorro: The Chronicles  Babylon s Fall  \\\n",
       "name                                                                 \n",
       "Sid Meier s Civilization II               0.055747        0.011930   \n",
       "Quake                                     0.018832        0.000000   \n",
       "Diablo                                    0.030582        0.034874   \n",
       "Super Mario 64                            0.002568        0.006149   \n",
       "Wipeout XL                                0.003198        0.007656   \n",
       "\n",
       "name                         LEGO Brawls  CrossfireX  POSTAL 4: No Regerts  \n",
       "name                                                                        \n",
       "Sid Meier s Civilization II     0.006644    0.007067              0.007686  \n",
       "Quake                           0.000000    0.000000              0.000000  \n",
       "Diablo                          0.001294    0.001903              0.012720  \n",
       "Super Mario 64                  0.021765    0.000000              0.006013  \n",
       "Wipeout XL                      0.002449    0.013219              0.009803  \n",
       "\n",
       "[5 rows x 12829 columns]"
      ]
     },
     "execution_count": 15,
     "metadata": {},
     "output_type": "execute_result"
    }
   ],
   "source": [
    "indices = pd.Series(unique_game_cards.index, index=unique_game_cards['name'])\n",
    "\n",
    "cos_df = pd.DataFrame(cos_sim)\n",
    "\n",
    "cos_df.columns = indices.index\n",
    "\n",
    "cos_df['name'] = indices.index\n",
    "cos_df = cos_df.set_index('name')\n",
    "\n",
    "cos_df.head()"
   ]
  },
  {
   "cell_type": "code",
   "execution_count": 16,
   "metadata": {
    "executionInfo": {
     "elapsed": 4847,
     "status": "ok",
     "timestamp": 1668521635566,
     "user": {
      "displayName": "Dmitriy Kolesov",
      "userId": "14381214906025020908"
     },
     "user_tz": -120
    },
    "id": "2dD6wSfpowpf"
   },
   "outputs": [],
   "source": [
    "cos_df.to_pickle('cosine_similarity.pkl') # ~ 1.2 gb"
   ]
  },
  {
   "cell_type": "code",
   "execution_count": null,
   "metadata": {
    "id": "PQOdcVizo5F-"
   },
   "outputs": [],
   "source": []
  }
 ],
 "metadata": {
  "colab": {
   "authorship_tag": "ABX9TyPEh8HSdFizqR4WW8t2EM0P",
   "provenance": []
  },
  "kernelspec": {
   "display_name": "Python 3 (ipykernel)",
   "language": "python",
   "name": "python3"
  },
  "language_info": {
   "codemirror_mode": {
    "name": "ipython",
    "version": 3
   },
   "file_extension": ".py",
   "mimetype": "text/x-python",
   "name": "python",
   "nbconvert_exporter": "python",
   "pygments_lexer": "ipython3",
   "version": "3.9.13"
  }
 },
 "nbformat": 4,
 "nbformat_minor": 1
}
